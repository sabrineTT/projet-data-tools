{
 "cells": [
  {
   "cell_type": "markdown",
   "source": [
    "# <u> Analyse et nettoyage de la database"
   ],
   "metadata": {
    "collapsed": false,
    "pycharm": {
     "name": "#%% md\n"
    }
   }
  },
  {
   "cell_type": "code",
   "execution_count": 167,
   "id": "288983ce",
   "metadata": {},
   "outputs": [
    {
     "data": {
      "text/plain": "                                                 Title Nb rating    Prices  \\\n0             Vol en hélicoptère au-dessus de New York       902  183,30 €   \n1    Billet pour le Mémorial et le Musée du 11 Sept...       233   28,30 €   \n2                           Billet pour l'Empire State     1 692   45,20 €   \n3                     Go City : New York Explorer Pass     1 007   65,20 €   \n4                  Billet coupe-file pour le One World       977   44,20 €   \n..                                                 ...       ...       ...   \n259    Balade en bateau à travers les Villas des Stars       367   78,40 €   \n260                  Balade en bateau à moteur à Miami        41  902,40 €   \n261                           Excursion aux Everglades       325   83,10 €   \n262            Carte eSIM avec Internet aux États-Unis        16   65,20 €   \n263  Offre : Contrastes de Miami + Everglades + Bal...        98   51,90 €   \n\n            Nb visits     Rating  \\\n0    13 026 voyageurs  9,10 / 10   \n1     5 054 voyageurs  9,10 / 10   \n2    29 125 voyageurs  9,10 / 10   \n3    30 575 voyageurs  9,10 / 10   \n4    14 313 voyageurs  9,30 / 10   \n..                ...        ...   \n259       7 voyageurs  8,50 / 10   \n260       5 voyageurs  8,50 / 10   \n261     334 voyageurs  7,90 / 10   \n262      16 voyageurs  6,40 / 10   \n263      22 voyageurs  9,40 / 10   \n\n                                            Annulation             Duration  \\\n0    Gratuit ! Annulez sans frais jusqu'à 24 heures...      15 min - 20 min   \n1    Gratuit ! Annulez sans frais jusqu'à 24 heures...                   -1   \n2    Non remboursable. Cette activité n'admet aucun...                   -1   \n3    Gratuit ! Annulez sans frais jusqu'à 24 heures...                   -1   \n4    Non remboursable. Cette activité n'admet aucun...                   -1   \n..                                                 ...                  ...   \n259  Non remboursable. Cette activité n'admet pas d...                 1h30   \n260  Gratuit ! Annulez sans frais jusqu'à 8 heures ...           45 minutes   \n261  Gratuit ! Annulez sans frais jusqu'à 24 heures...             4 heures   \n262  Non remboursable. Cette activité n'admet aucun...  10 jours - 30 jours   \n263  Gratuit ! Annulez sans frais jusqu'à 24 heures...             8 heures   \n\n                Language      City        lat        lon  \\\n0                Anglais  new-york  40.700990 -74.008783   \n1                     -1  new-york  40.711737 -74.013301   \n2                     -1  new-york  40.748784 -73.986158   \n3                     -1  new-york  40.712955 -74.001362   \n4                     -1  new-york  40.712955 -74.013814   \n..                   ...       ...        ...        ...   \n259              Anglais     miami  25.777913 -80.186247   \n260              Anglais     miami  25.777767 -80.185607   \n261  Anglais et espagnol     miami  25.761676 -80.194099   \n262                   -1     miami  25.761676 -80.194099   \n263  Anglais et espagnol     miami  25.761676 -80.194099   \n\n                                                 image  \n0    https://cdn2.civitatis.com/estados-unidos/nuev...  \n1    https://cdn2.civitatis.com/estados-unidos/nuev...  \n2    https://cdn2.civitatis.com/estados-unidos/nuev...  \n3    https://cdn2.civitatis.com/estados-unidos/nuev...  \n4    https://cdn2.civitatis.com/estados-unidos/nuev...  \n..                                                 ...  \n259  https://cdn2.civitatis.com/estados-unidos/miam...  \n260  https://cdn2.civitatis.com/estados-unidos/miam...  \n261  https://cdn2.civitatis.com/estados-unidos/miam...  \n262  https://cdn2.civitatis.com/estados-unidos/nuev...  \n263  https://cdn2.civitatis.com/estados-unidos/miam...  \n\n[264 rows x 12 columns]",
      "text/html": "<div>\n<style scoped>\n    .dataframe tbody tr th:only-of-type {\n        vertical-align: middle;\n    }\n\n    .dataframe tbody tr th {\n        vertical-align: top;\n    }\n\n    .dataframe thead th {\n        text-align: right;\n    }\n</style>\n<table border=\"1\" class=\"dataframe\">\n  <thead>\n    <tr style=\"text-align: right;\">\n      <th></th>\n      <th>Title</th>\n      <th>Nb rating</th>\n      <th>Prices</th>\n      <th>Nb visits</th>\n      <th>Rating</th>\n      <th>Annulation</th>\n      <th>Duration</th>\n      <th>Language</th>\n      <th>City</th>\n      <th>lat</th>\n      <th>lon</th>\n      <th>image</th>\n    </tr>\n  </thead>\n  <tbody>\n    <tr>\n      <th>0</th>\n      <td>Vol en hélicoptère au-dessus de New York</td>\n      <td>902</td>\n      <td>183,30 €</td>\n      <td>13 026 voyageurs</td>\n      <td>9,10 / 10</td>\n      <td>Gratuit ! Annulez sans frais jusqu'à 24 heures...</td>\n      <td>15 min - 20 min</td>\n      <td>Anglais</td>\n      <td>new-york</td>\n      <td>40.700990</td>\n      <td>-74.008783</td>\n      <td>https://cdn2.civitatis.com/estados-unidos/nuev...</td>\n    </tr>\n    <tr>\n      <th>1</th>\n      <td>Billet pour le Mémorial et le Musée du 11 Sept...</td>\n      <td>233</td>\n      <td>28,30 €</td>\n      <td>5 054 voyageurs</td>\n      <td>9,10 / 10</td>\n      <td>Gratuit ! Annulez sans frais jusqu'à 24 heures...</td>\n      <td>-1</td>\n      <td>-1</td>\n      <td>new-york</td>\n      <td>40.711737</td>\n      <td>-74.013301</td>\n      <td>https://cdn2.civitatis.com/estados-unidos/nuev...</td>\n    </tr>\n    <tr>\n      <th>2</th>\n      <td>Billet pour l'Empire State</td>\n      <td>1 692</td>\n      <td>45,20 €</td>\n      <td>29 125 voyageurs</td>\n      <td>9,10 / 10</td>\n      <td>Non remboursable. Cette activité n'admet aucun...</td>\n      <td>-1</td>\n      <td>-1</td>\n      <td>new-york</td>\n      <td>40.748784</td>\n      <td>-73.986158</td>\n      <td>https://cdn2.civitatis.com/estados-unidos/nuev...</td>\n    </tr>\n    <tr>\n      <th>3</th>\n      <td>Go City : New York Explorer Pass</td>\n      <td>1 007</td>\n      <td>65,20 €</td>\n      <td>30 575 voyageurs</td>\n      <td>9,10 / 10</td>\n      <td>Gratuit ! Annulez sans frais jusqu'à 24 heures...</td>\n      <td>-1</td>\n      <td>-1</td>\n      <td>new-york</td>\n      <td>40.712955</td>\n      <td>-74.001362</td>\n      <td>https://cdn2.civitatis.com/estados-unidos/nuev...</td>\n    </tr>\n    <tr>\n      <th>4</th>\n      <td>Billet coupe-file pour le One World</td>\n      <td>977</td>\n      <td>44,20 €</td>\n      <td>14 313 voyageurs</td>\n      <td>9,30 / 10</td>\n      <td>Non remboursable. Cette activité n'admet aucun...</td>\n      <td>-1</td>\n      <td>-1</td>\n      <td>new-york</td>\n      <td>40.712955</td>\n      <td>-74.013814</td>\n      <td>https://cdn2.civitatis.com/estados-unidos/nuev...</td>\n    </tr>\n    <tr>\n      <th>...</th>\n      <td>...</td>\n      <td>...</td>\n      <td>...</td>\n      <td>...</td>\n      <td>...</td>\n      <td>...</td>\n      <td>...</td>\n      <td>...</td>\n      <td>...</td>\n      <td>...</td>\n      <td>...</td>\n      <td>...</td>\n    </tr>\n    <tr>\n      <th>259</th>\n      <td>Balade en bateau à travers les Villas des Stars</td>\n      <td>367</td>\n      <td>78,40 €</td>\n      <td>7 voyageurs</td>\n      <td>8,50 / 10</td>\n      <td>Non remboursable. Cette activité n'admet pas d...</td>\n      <td>1h30</td>\n      <td>Anglais</td>\n      <td>miami</td>\n      <td>25.777913</td>\n      <td>-80.186247</td>\n      <td>https://cdn2.civitatis.com/estados-unidos/miam...</td>\n    </tr>\n    <tr>\n      <th>260</th>\n      <td>Balade en bateau à moteur à Miami</td>\n      <td>41</td>\n      <td>902,40 €</td>\n      <td>5 voyageurs</td>\n      <td>8,50 / 10</td>\n      <td>Gratuit ! Annulez sans frais jusqu'à 8 heures ...</td>\n      <td>45 minutes</td>\n      <td>Anglais</td>\n      <td>miami</td>\n      <td>25.777767</td>\n      <td>-80.185607</td>\n      <td>https://cdn2.civitatis.com/estados-unidos/miam...</td>\n    </tr>\n    <tr>\n      <th>261</th>\n      <td>Excursion aux Everglades</td>\n      <td>325</td>\n      <td>83,10 €</td>\n      <td>334 voyageurs</td>\n      <td>7,90 / 10</td>\n      <td>Gratuit ! Annulez sans frais jusqu'à 24 heures...</td>\n      <td>4 heures</td>\n      <td>Anglais et espagnol</td>\n      <td>miami</td>\n      <td>25.761676</td>\n      <td>-80.194099</td>\n      <td>https://cdn2.civitatis.com/estados-unidos/miam...</td>\n    </tr>\n    <tr>\n      <th>262</th>\n      <td>Carte eSIM avec Internet aux États-Unis</td>\n      <td>16</td>\n      <td>65,20 €</td>\n      <td>16 voyageurs</td>\n      <td>6,40 / 10</td>\n      <td>Non remboursable. Cette activité n'admet aucun...</td>\n      <td>10 jours - 30 jours</td>\n      <td>-1</td>\n      <td>miami</td>\n      <td>25.761676</td>\n      <td>-80.194099</td>\n      <td>https://cdn2.civitatis.com/estados-unidos/nuev...</td>\n    </tr>\n    <tr>\n      <th>263</th>\n      <td>Offre : Contrastes de Miami + Everglades + Bal...</td>\n      <td>98</td>\n      <td>51,90 €</td>\n      <td>22 voyageurs</td>\n      <td>9,40 / 10</td>\n      <td>Gratuit ! Annulez sans frais jusqu'à 24 heures...</td>\n      <td>8 heures</td>\n      <td>Anglais et espagnol</td>\n      <td>miami</td>\n      <td>25.761676</td>\n      <td>-80.194099</td>\n      <td>https://cdn2.civitatis.com/estados-unidos/miam...</td>\n    </tr>\n  </tbody>\n</table>\n<p>264 rows × 12 columns</p>\n</div>"
     },
     "execution_count": 167,
     "metadata": {},
     "output_type": "execute_result"
    }
   ],
   "source": [
    "import pandas as pd\n",
    "\n",
    "df = pd.read_csv(\"us_activities.csv\", on_bad_lines='skip')\n",
    "#skip : 2 lignes ont une liste de langues séparé avec des \",\" \n",
    "#-> pandas interprete ca comme une nouvelle colonne\n",
    "\n",
    "df"
   ]
  },
  {
   "cell_type": "markdown",
   "source": [],
   "metadata": {
    "collapsed": false,
    "pycharm": {
     "name": "#%% md\n"
    }
   }
  },
  {
   "cell_type": "code",
   "execution_count": 168,
   "outputs": [
    {
     "name": "stdout",
     "output_type": "stream",
     "text": [
      "Type de la colonne prix :  object\n",
      "Type de la colonne du nombre de notation :  object\n",
      "Type de la colonne notation :  object\n"
     ]
    }
   ],
   "source": [
    "print('Type de la colonne prix : ', df['Prices'].dtype)\n",
    "print('Type de la colonne du nombre de notation : ', df['Nb rating'].dtype)\n",
    "print('Type de la colonne notation : ', df['Rating'].dtype)"
   ],
   "metadata": {
    "collapsed": false,
    "pycharm": {
     "name": "#%%\n"
    }
   }
  },
  {
   "cell_type": "markdown",
   "source": [
    "-> On va convertir ces colonnes en float pour pouvoir les réutiliser dans l'application\n",
    "-> On va également changer la colonne des langues et y mettre des listes des langues parlées avec des valeurs :\n",
    "- Anglais = 1\n",
    "- Francais = 2\n",
    "- Espagnol = 3\n",
    "- Pas d'infos = -1"
   ],
   "metadata": {
    "collapsed": false,
    "pycharm": {
     "name": "#%% md\n"
    }
   }
  },
  {
   "cell_type": "markdown",
   "source": [
    "A) Prix"
   ],
   "metadata": {
    "collapsed": false,
    "pycharm": {
     "name": "#%% md\n"
    }
   }
  },
  {
   "cell_type": "code",
   "execution_count": 169,
   "outputs": [
    {
     "data": {
      "text/plain": "0      183,30 €\n1       28,30 €\n2       45,20 €\n3       65,20 €\n4       44,20 €\n         ...   \n259     78,40 €\n260    902,40 €\n261     83,10 €\n262     65,20 €\n263     51,90 €\nName: Prices, Length: 264, dtype: object"
     },
     "execution_count": 169,
     "metadata": {},
     "output_type": "execute_result"
    }
   ],
   "source": [
    "df['Prices']"
   ],
   "metadata": {
    "collapsed": false,
    "pycharm": {
     "name": "#%%\n"
    }
   }
  },
  {
   "cell_type": "code",
   "execution_count": 170,
   "outputs": [],
   "source": [
    "df['Prices'] = df['Prices'].str.replace('€', '')\n",
    "df['Prices'] = df['Prices'].str.replace(' ', '')"
   ],
   "metadata": {
    "collapsed": false,
    "pycharm": {
     "name": "#%%\n"
    }
   }
  },
  {
   "cell_type": "code",
   "execution_count": 171,
   "outputs": [],
   "source": [
    "price_list = []\n",
    "new_price = ''\n",
    "for price in df.Prices:\n",
    "    for i in price:\n",
    "        if i.isnumeric() == True or i == ',':\n",
    "            new_price += i\n",
    "        else:\n",
    "            new_price = '0'\n",
    "    price_list.append(new_price)\n",
    "    new_price = ''"
   ],
   "metadata": {
    "collapsed": false,
    "pycharm": {
     "name": "#%%\n"
    }
   }
  },
  {
   "cell_type": "code",
   "execution_count": 172,
   "outputs": [],
   "source": [
    "df['Prices'] = price_list\n",
    "df['Prices'] = df['Prices'].str.replace(',','.').astype(float)"
   ],
   "metadata": {
    "collapsed": false,
    "pycharm": {
     "name": "#%%\n"
    }
   }
  },
  {
   "cell_type": "code",
   "execution_count": 173,
   "outputs": [
    {
     "data": {
      "text/plain": "0      183.3\n1       28.3\n2       45.2\n3       65.2\n4       44.2\n       ...  \n259     78.4\n260    902.4\n261     83.1\n262     65.2\n263     51.9\nName: Prices, Length: 264, dtype: float64"
     },
     "execution_count": 173,
     "metadata": {},
     "output_type": "execute_result"
    }
   ],
   "source": [
    "df['Prices']"
   ],
   "metadata": {
    "collapsed": false,
    "pycharm": {
     "name": "#%%\n"
    }
   }
  },
  {
   "cell_type": "markdown",
   "source": [
    "B) Nombre de notations"
   ],
   "metadata": {
    "collapsed": false,
    "pycharm": {
     "name": "#%% md\n"
    }
   }
  },
  {
   "cell_type": "code",
   "execution_count": 174,
   "outputs": [
    {
     "data": {
      "text/plain": "0        902\n1        233\n2      1 692\n3      1 007\n4        977\n       ...  \n259      367\n260       41\n261      325\n262       16\n263       98\nName: Nb rating, Length: 264, dtype: object"
     },
     "execution_count": 174,
     "metadata": {},
     "output_type": "execute_result"
    }
   ],
   "source": [
    "df['Nb rating']"
   ],
   "metadata": {
    "collapsed": false,
    "pycharm": {
     "name": "#%%\n"
    }
   }
  },
  {
   "cell_type": "code",
   "execution_count": 175,
   "outputs": [
    {
     "data": {
      "text/plain": "0       902.0\n1       233.0\n2      1692.0\n3      1007.0\n4       977.0\n        ...  \n259     367.0\n260      41.0\n261     325.0\n262      16.0\n263      98.0\nName: Nb rating, Length: 264, dtype: float64"
     },
     "execution_count": 175,
     "metadata": {},
     "output_type": "execute_result"
    }
   ],
   "source": [
    "df['Nb rating'] = df['Nb rating'].str.replace(' ','').astype(float)\n",
    "df['Nb rating']"
   ],
   "metadata": {
    "collapsed": false,
    "pycharm": {
     "name": "#%%\n"
    }
   }
  },
  {
   "cell_type": "markdown",
   "source": [
    "C) Notations"
   ],
   "metadata": {
    "collapsed": false,
    "pycharm": {
     "name": "#%% md\n"
    }
   }
  },
  {
   "cell_type": "code",
   "execution_count": 176,
   "outputs": [
    {
     "data": {
      "text/plain": "0      9,10 / 10\n1      9,10 / 10\n2      9,10 / 10\n3      9,10 / 10\n4      9,30 / 10\n         ...    \n259    8,50 / 10\n260    8,50 / 10\n261    7,90 / 10\n262    6,40 / 10\n263    9,40 / 10\nName: Rating, Length: 264, dtype: object"
     },
     "execution_count": 176,
     "metadata": {},
     "output_type": "execute_result"
    }
   ],
   "source": [
    "df['Rating']"
   ],
   "metadata": {
    "collapsed": false,
    "pycharm": {
     "name": "#%%\n"
    }
   }
  },
  {
   "cell_type": "code",
   "execution_count": 177,
   "outputs": [],
   "source": [
    "rating_list = []\n",
    "for rating in df.Rating:\n",
    "    rating = rating.split('/', 1)\n",
    "    rating_list.append(rating[0])"
   ],
   "metadata": {
    "collapsed": false,
    "pycharm": {
     "name": "#%%\n"
    }
   }
  },
  {
   "cell_type": "code",
   "execution_count": 178,
   "outputs": [],
   "source": [
    "df['Rating'] = rating_list\n",
    "df['Rating'] = df['Rating'].str.replace(',','.').astype(float)"
   ],
   "metadata": {
    "collapsed": false,
    "pycharm": {
     "name": "#%%\n"
    }
   }
  },
  {
   "cell_type": "code",
   "execution_count": 179,
   "outputs": [
    {
     "data": {
      "text/plain": "0      9.1\n1      9.1\n2      9.1\n3      9.1\n4      9.3\n      ... \n259    8.5\n260    8.5\n261    7.9\n262    6.4\n263    9.4\nName: Rating, Length: 264, dtype: float64"
     },
     "execution_count": 179,
     "metadata": {},
     "output_type": "execute_result"
    }
   ],
   "source": [
    "df['Rating']"
   ],
   "metadata": {
    "collapsed": false,
    "pycharm": {
     "name": "#%%\n"
    }
   }
  },
  {
   "cell_type": "markdown",
   "source": [
    "D) Langages"
   ],
   "metadata": {
    "collapsed": false,
    "pycharm": {
     "name": "#%% md\n"
    }
   }
  },
  {
   "cell_type": "code",
   "execution_count": 180,
   "outputs": [
    {
     "data": {
      "text/plain": "0                  Anglais\n1                       -1\n2                       -1\n3                       -1\n4                       -1\n              ...         \n259                Anglais\n260                Anglais\n261    Anglais et espagnol\n262                     -1\n263    Anglais et espagnol\nName: Language, Length: 264, dtype: object"
     },
     "execution_count": 180,
     "metadata": {},
     "output_type": "execute_result"
    }
   ],
   "source": [
    "df['Language']"
   ],
   "metadata": {
    "collapsed": false,
    "pycharm": {
     "name": "#%%\n"
    }
   }
  },
  {
   "cell_type": "code",
   "execution_count": 181,
   "outputs": [
    {
     "data": {
      "text/plain": "0               Anglais\n1                    -1\n2                    -1\n3                    -1\n4                    -1\n             ...       \n259             Anglais\n260             Anglais\n261    Anglais,espagnol\n262                  -1\n263    Anglais,espagnol\nName: Language, Length: 264, dtype: object"
     },
     "execution_count": 181,
     "metadata": {},
     "output_type": "execute_result"
    }
   ],
   "source": [
    "df['Language'] = df['Language'].str.replace(' et ',',')\n",
    "df['Language']"
   ],
   "metadata": {
    "collapsed": false,
    "pycharm": {
     "name": "#%%\n"
    }
   }
  },
  {
   "cell_type": "code",
   "execution_count": 182,
   "outputs": [],
   "source": [
    "language_list = []\n",
    "for language in df.Language:\n",
    "    if language == '-1':\n",
    "        language_list.append([int(language)])\n",
    "    else:\n",
    "        language = language.split(',')\n",
    "        for i in range(len(language)):\n",
    "            if language[i] == 'Anglais' or language[i] == 'anglais':\n",
    "                language[i] = 1\n",
    "            elif language[i] == 'Français' or language[i] == 'français':\n",
    "                language[i] = 2\n",
    "            elif language[i] == 'espagnol' or language[i] == 'Espagnol':\n",
    "                language[i] = 3\n",
    "            else:\n",
    "                language[i] = -1\n",
    "        language_list.append(language)"
   ],
   "metadata": {
    "collapsed": false,
    "pycharm": {
     "name": "#%%\n"
    }
   }
  },
  {
   "cell_type": "code",
   "execution_count": 183,
   "outputs": [],
   "source": [
    "df['Language'] = language_list"
   ],
   "metadata": {
    "collapsed": false,
    "pycharm": {
     "name": "#%%\n"
    }
   }
  },
  {
   "cell_type": "code",
   "execution_count": 184,
   "outputs": [
    {
     "data": {
      "text/plain": "0         [1]\n1        [-1]\n2        [-1]\n3        [-1]\n4        [-1]\n        ...  \n259       [1]\n260       [1]\n261    [1, 3]\n262      [-1]\n263    [1, 3]\nName: Language, Length: 264, dtype: object"
     },
     "execution_count": 184,
     "metadata": {},
     "output_type": "execute_result"
    }
   ],
   "source": [
    "df['Language']"
   ],
   "metadata": {
    "collapsed": false,
    "pycharm": {
     "name": "#%%\n"
    }
   }
  },
  {
   "cell_type": "code",
   "execution_count": 185,
   "outputs": [],
   "source": [
    "df.to_csv(r'treated_us_activities.csv', index=False)"
   ],
   "metadata": {
    "collapsed": false,
    "pycharm": {
     "name": "#%%\n"
    }
   }
  }
 ],
 "metadata": {
  "kernelspec": {
   "display_name": "Python 3 (ipykernel)",
   "language": "python",
   "name": "python3"
  },
  "language_info": {
   "codemirror_mode": {
    "name": "ipython",
    "version": 3
   },
   "file_extension": ".py",
   "mimetype": "text/x-python",
   "name": "python",
   "nbconvert_exporter": "python",
   "pygments_lexer": "ipython3",
   "version": "3.7.11"
  }
 },
 "nbformat": 4,
 "nbformat_minor": 5
}