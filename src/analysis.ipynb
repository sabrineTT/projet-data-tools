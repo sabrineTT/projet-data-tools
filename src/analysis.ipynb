{
 "cells": [
  {
   "cell_type": "markdown",
   "source": [
    "# <u> Analyse et nettoyage de la database"
   ],
   "metadata": {
    "collapsed": false,
    "pycharm": {
     "name": "#%% md\n"
    }
   }
  },
  {
   "cell_type": "code",
   "execution_count": 2,
   "id": "288983ce",
   "metadata": {},
   "outputs": [
    {
     "data": {
      "text/plain": "                                                 Title Nb rating    Prices  \\\n0             Vol en hélicoptère au-dessus de New York       902  183,30 €   \n1    Billet pour le Mémorial et le Musée du 11 Sept...       233   28,30 €   \n2                           Billet pour l'Empire State     1 692   45,20 €   \n3                     Go City : New York Explorer Pass     1 007   65,20 €   \n4                  Billet coupe-file pour le One World       977   44,20 €   \n..                                                 ...       ...       ...   \n259    Balade en bateau à travers les Villas des Stars       367   78,40 €   \n260                  Balade en bateau à moteur à Miami        41  902,40 €   \n261                           Excursion aux Everglades       325   83,10 €   \n262            Carte eSIM avec Internet aux États-Unis        16   65,20 €   \n263  Offre : Contrastes de Miami + Everglades + Bal...        98   51,90 €   \n\n            Nb visits     Rating  \\\n0    13 026 voyageurs  9,10 / 10   \n1     5 054 voyageurs  9,10 / 10   \n2    29 125 voyageurs  9,10 / 10   \n3    30 575 voyageurs  9,10 / 10   \n4    14 313 voyageurs  9,30 / 10   \n..                ...        ...   \n259       7 voyageurs  8,50 / 10   \n260       5 voyageurs  8,50 / 10   \n261     334 voyageurs  7,90 / 10   \n262      16 voyageurs  6,40 / 10   \n263      22 voyageurs  9,40 / 10   \n\n                                            Annulation             Duration  \\\n0    Gratuit ! Annulez sans frais jusqu'à 24 heures...      15 min - 20 min   \n1    Gratuit ! Annulez sans frais jusqu'à 24 heures...                   -1   \n2    Non remboursable. Cette activité n'admet aucun...                   -1   \n3    Gratuit ! Annulez sans frais jusqu'à 24 heures...                   -1   \n4    Non remboursable. Cette activité n'admet aucun...                   -1   \n..                                                 ...                  ...   \n259  Non remboursable. Cette activité n'admet pas d...                 1h30   \n260  Gratuit ! Annulez sans frais jusqu'à 8 heures ...           45 minutes   \n261  Gratuit ! Annulez sans frais jusqu'à 24 heures...             4 heures   \n262  Non remboursable. Cette activité n'admet aucun...  10 jours - 30 jours   \n263  Gratuit ! Annulez sans frais jusqu'à 24 heures...             8 heures   \n\n                Language      City        lat        lon  \\\n0                Anglais  new-york  40.700990 -74.008783   \n1                     -1  new-york  40.711737 -74.013301   \n2                     -1  new-york  40.748784 -73.986158   \n3                     -1  new-york  40.712955 -74.001362   \n4                     -1  new-york  40.712955 -74.013814   \n..                   ...       ...        ...        ...   \n259              Anglais     miami  25.777913 -80.186247   \n260              Anglais     miami  25.777767 -80.185607   \n261  Anglais et espagnol     miami  25.761676 -80.194099   \n262                   -1     miami  25.761676 -80.194099   \n263  Anglais et espagnol     miami  25.761676 -80.194099   \n\n                                                 image  \n0    https://cdn2.civitatis.com/estados-unidos/nuev...  \n1    https://cdn2.civitatis.com/estados-unidos/nuev...  \n2    https://cdn2.civitatis.com/estados-unidos/nuev...  \n3    https://cdn2.civitatis.com/estados-unidos/nuev...  \n4    https://cdn2.civitatis.com/estados-unidos/nuev...  \n..                                                 ...  \n259  https://cdn2.civitatis.com/estados-unidos/miam...  \n260  https://cdn2.civitatis.com/estados-unidos/miam...  \n261  https://cdn2.civitatis.com/estados-unidos/miam...  \n262  https://cdn2.civitatis.com/estados-unidos/nuev...  \n263  https://cdn2.civitatis.com/estados-unidos/miam...  \n\n[264 rows x 12 columns]",
      "text/html": "<div>\n<style scoped>\n    .dataframe tbody tr th:only-of-type {\n        vertical-align: middle;\n    }\n\n    .dataframe tbody tr th {\n        vertical-align: top;\n    }\n\n    .dataframe thead th {\n        text-align: right;\n    }\n</style>\n<table border=\"1\" class=\"dataframe\">\n  <thead>\n    <tr style=\"text-align: right;\">\n      <th></th>\n      <th>Title</th>\n      <th>Nb rating</th>\n      <th>Prices</th>\n      <th>Nb visits</th>\n      <th>Rating</th>\n      <th>Annulation</th>\n      <th>Duration</th>\n      <th>Language</th>\n      <th>City</th>\n      <th>lat</th>\n      <th>lon</th>\n      <th>image</th>\n    </tr>\n  </thead>\n  <tbody>\n    <tr>\n      <th>0</th>\n      <td>Vol en hélicoptère au-dessus de New York</td>\n      <td>902</td>\n      <td>183,30 €</td>\n      <td>13 026 voyageurs</td>\n      <td>9,10 / 10</td>\n      <td>Gratuit ! Annulez sans frais jusqu'à 24 heures...</td>\n      <td>15 min - 20 min</td>\n      <td>Anglais</td>\n      <td>new-york</td>\n      <td>40.700990</td>\n      <td>-74.008783</td>\n      <td>https://cdn2.civitatis.com/estados-unidos/nuev...</td>\n    </tr>\n    <tr>\n      <th>1</th>\n      <td>Billet pour le Mémorial et le Musée du 11 Sept...</td>\n      <td>233</td>\n      <td>28,30 €</td>\n      <td>5 054 voyageurs</td>\n      <td>9,10 / 10</td>\n      <td>Gratuit ! Annulez sans frais jusqu'à 24 heures...</td>\n      <td>-1</td>\n      <td>-1</td>\n      <td>new-york</td>\n      <td>40.711737</td>\n      <td>-74.013301</td>\n      <td>https://cdn2.civitatis.com/estados-unidos/nuev...</td>\n    </tr>\n    <tr>\n      <th>2</th>\n      <td>Billet pour l'Empire State</td>\n      <td>1 692</td>\n      <td>45,20 €</td>\n      <td>29 125 voyageurs</td>\n      <td>9,10 / 10</td>\n      <td>Non remboursable. Cette activité n'admet aucun...</td>\n      <td>-1</td>\n      <td>-1</td>\n      <td>new-york</td>\n      <td>40.748784</td>\n      <td>-73.986158</td>\n      <td>https://cdn2.civitatis.com/estados-unidos/nuev...</td>\n    </tr>\n    <tr>\n      <th>3</th>\n      <td>Go City : New York Explorer Pass</td>\n      <td>1 007</td>\n      <td>65,20 €</td>\n      <td>30 575 voyageurs</td>\n      <td>9,10 / 10</td>\n      <td>Gratuit ! Annulez sans frais jusqu'à 24 heures...</td>\n      <td>-1</td>\n      <td>-1</td>\n      <td>new-york</td>\n      <td>40.712955</td>\n      <td>-74.001362</td>\n      <td>https://cdn2.civitatis.com/estados-unidos/nuev...</td>\n    </tr>\n    <tr>\n      <th>4</th>\n      <td>Billet coupe-file pour le One World</td>\n      <td>977</td>\n      <td>44,20 €</td>\n      <td>14 313 voyageurs</td>\n      <td>9,30 / 10</td>\n      <td>Non remboursable. Cette activité n'admet aucun...</td>\n      <td>-1</td>\n      <td>-1</td>\n      <td>new-york</td>\n      <td>40.712955</td>\n      <td>-74.013814</td>\n      <td>https://cdn2.civitatis.com/estados-unidos/nuev...</td>\n    </tr>\n    <tr>\n      <th>...</th>\n      <td>...</td>\n      <td>...</td>\n      <td>...</td>\n      <td>...</td>\n      <td>...</td>\n      <td>...</td>\n      <td>...</td>\n      <td>...</td>\n      <td>...</td>\n      <td>...</td>\n      <td>...</td>\n      <td>...</td>\n    </tr>\n    <tr>\n      <th>259</th>\n      <td>Balade en bateau à travers les Villas des Stars</td>\n      <td>367</td>\n      <td>78,40 €</td>\n      <td>7 voyageurs</td>\n      <td>8,50 / 10</td>\n      <td>Non remboursable. Cette activité n'admet pas d...</td>\n      <td>1h30</td>\n      <td>Anglais</td>\n      <td>miami</td>\n      <td>25.777913</td>\n      <td>-80.186247</td>\n      <td>https://cdn2.civitatis.com/estados-unidos/miam...</td>\n    </tr>\n    <tr>\n      <th>260</th>\n      <td>Balade en bateau à moteur à Miami</td>\n      <td>41</td>\n      <td>902,40 €</td>\n      <td>5 voyageurs</td>\n      <td>8,50 / 10</td>\n      <td>Gratuit ! Annulez sans frais jusqu'à 8 heures ...</td>\n      <td>45 minutes</td>\n      <td>Anglais</td>\n      <td>miami</td>\n      <td>25.777767</td>\n      <td>-80.185607</td>\n      <td>https://cdn2.civitatis.com/estados-unidos/miam...</td>\n    </tr>\n    <tr>\n      <th>261</th>\n      <td>Excursion aux Everglades</td>\n      <td>325</td>\n      <td>83,10 €</td>\n      <td>334 voyageurs</td>\n      <td>7,90 / 10</td>\n      <td>Gratuit ! Annulez sans frais jusqu'à 24 heures...</td>\n      <td>4 heures</td>\n      <td>Anglais et espagnol</td>\n      <td>miami</td>\n      <td>25.761676</td>\n      <td>-80.194099</td>\n      <td>https://cdn2.civitatis.com/estados-unidos/miam...</td>\n    </tr>\n    <tr>\n      <th>262</th>\n      <td>Carte eSIM avec Internet aux États-Unis</td>\n      <td>16</td>\n      <td>65,20 €</td>\n      <td>16 voyageurs</td>\n      <td>6,40 / 10</td>\n      <td>Non remboursable. Cette activité n'admet aucun...</td>\n      <td>10 jours - 30 jours</td>\n      <td>-1</td>\n      <td>miami</td>\n      <td>25.761676</td>\n      <td>-80.194099</td>\n      <td>https://cdn2.civitatis.com/estados-unidos/nuev...</td>\n    </tr>\n    <tr>\n      <th>263</th>\n      <td>Offre : Contrastes de Miami + Everglades + Bal...</td>\n      <td>98</td>\n      <td>51,90 €</td>\n      <td>22 voyageurs</td>\n      <td>9,40 / 10</td>\n      <td>Gratuit ! Annulez sans frais jusqu'à 24 heures...</td>\n      <td>8 heures</td>\n      <td>Anglais et espagnol</td>\n      <td>miami</td>\n      <td>25.761676</td>\n      <td>-80.194099</td>\n      <td>https://cdn2.civitatis.com/estados-unidos/miam...</td>\n    </tr>\n  </tbody>\n</table>\n<p>264 rows × 12 columns</p>\n</div>"
     },
     "execution_count": 2,
     "metadata": {},
     "output_type": "execute_result"
    }
   ],
   "source": [
    "import pandas as pd\n",
    "\n",
    "df = pd.read_csv(\"us_activities.csv\", on_bad_lines='skip')\n",
    "#skip : 2 lignes ont une liste de langues séparé avec des \",\" \n",
    "#-> pandas interprete ca comme une nouvelle colonne\n",
    "\n",
    "df"
   ]
  },
  {
   "cell_type": "markdown",
   "source": [],
   "metadata": {
    "collapsed": false,
    "pycharm": {
     "name": "#%% md\n"
    }
   }
  },
  {
   "cell_type": "code",
   "execution_count": 3,
   "outputs": [
    {
     "name": "stdout",
     "output_type": "stream",
     "text": [
      "Type de la colonne prix :  object\n",
      "Type de la colonne du nombre de notation :  object\n",
      "Type de la colonne notation :  object\n"
     ]
    }
   ],
   "source": [
    "print('Type de la colonne prix : ', df['Prices'].dtype)\n",
    "print('Type de la colonne du nombre de notation : ', df['Nb rating'].dtype)\n",
    "print('Type de la colonne notation : ', df['Rating'].dtype)"
   ],
   "metadata": {
    "collapsed": false,
    "pycharm": {
     "name": "#%%\n"
    }
   }
  },
  {
   "cell_type": "markdown",
   "source": [
    "-> On va convertir ces colonnes en float pour pouvoir les réutiliser dans l'application\n",
    "-> Au niveau des villes, nous allons supprimer les \"-\" et mettre des majuscules\n",
    "-> Traduire tout le texte français en anglais pour l'application\n",
    "-> On va également changer la colonne des langues et y mettre des listes des langues parlées avec des valeurs :\n",
    "- Anglais = 1\n",
    "- Francais = 2\n",
    "- Espagnol = 3\n",
    "- Pas d'infos = -1"
   ],
   "metadata": {
    "collapsed": false,
    "pycharm": {
     "name": "#%% md\n"
    }
   }
  },
  {
   "cell_type": "markdown",
   "source": [
    "A) Prix"
   ],
   "metadata": {
    "collapsed": false,
    "pycharm": {
     "name": "#%% md\n"
    }
   }
  },
  {
   "cell_type": "code",
   "execution_count": 4,
   "outputs": [
    {
     "data": {
      "text/plain": "0      183,30 €\n1       28,30 €\n2       45,20 €\n3       65,20 €\n4       44,20 €\n         ...   \n259     78,40 €\n260    902,40 €\n261     83,10 €\n262     65,20 €\n263     51,90 €\nName: Prices, Length: 264, dtype: object"
     },
     "execution_count": 4,
     "metadata": {},
     "output_type": "execute_result"
    }
   ],
   "source": [
    "df['Prices']"
   ],
   "metadata": {
    "collapsed": false,
    "pycharm": {
     "name": "#%%\n"
    }
   }
  },
  {
   "cell_type": "code",
   "execution_count": 5,
   "outputs": [],
   "source": [
    "df['Prices'] = df['Prices'].str.replace('€', '')\n",
    "df['Prices'] = df['Prices'].str.replace(' ', '')"
   ],
   "metadata": {
    "collapsed": false,
    "pycharm": {
     "name": "#%%\n"
    }
   }
  },
  {
   "cell_type": "code",
   "execution_count": 6,
   "outputs": [],
   "source": [
    "price_list = []\n",
    "new_price = ''\n",
    "for price in df.Prices:\n",
    "    for i in price:\n",
    "        if i.isnumeric() == True or i == ',':\n",
    "            new_price += i\n",
    "        else:\n",
    "            new_price = '0'\n",
    "    price_list.append(new_price)\n",
    "    new_price = ''"
   ],
   "metadata": {
    "collapsed": false,
    "pycharm": {
     "name": "#%%\n"
    }
   }
  },
  {
   "cell_type": "code",
   "execution_count": 7,
   "outputs": [],
   "source": [
    "df['Prices'] = price_list\n",
    "df['Prices'] = df['Prices'].str.replace(',','.').astype(float)"
   ],
   "metadata": {
    "collapsed": false,
    "pycharm": {
     "name": "#%%\n"
    }
   }
  },
  {
   "cell_type": "code",
   "execution_count": 8,
   "outputs": [
    {
     "data": {
      "text/plain": "0      183.3\n1       28.3\n2       45.2\n3       65.2\n4       44.2\n       ...  \n259     78.4\n260    902.4\n261     83.1\n262     65.2\n263     51.9\nName: Prices, Length: 264, dtype: float64"
     },
     "execution_count": 8,
     "metadata": {},
     "output_type": "execute_result"
    }
   ],
   "source": [
    "df['Prices']"
   ],
   "metadata": {
    "collapsed": false,
    "pycharm": {
     "name": "#%%\n"
    }
   }
  },
  {
   "cell_type": "markdown",
   "source": [
    "B) Nombre de notations"
   ],
   "metadata": {
    "collapsed": false,
    "pycharm": {
     "name": "#%% md\n"
    }
   }
  },
  {
   "cell_type": "code",
   "execution_count": 9,
   "outputs": [
    {
     "data": {
      "text/plain": "0        902\n1        233\n2      1 692\n3      1 007\n4        977\n       ...  \n259      367\n260       41\n261      325\n262       16\n263       98\nName: Nb rating, Length: 264, dtype: object"
     },
     "execution_count": 9,
     "metadata": {},
     "output_type": "execute_result"
    }
   ],
   "source": [
    "df['Nb rating']"
   ],
   "metadata": {
    "collapsed": false,
    "pycharm": {
     "name": "#%%\n"
    }
   }
  },
  {
   "cell_type": "code",
   "execution_count": 10,
   "outputs": [
    {
     "data": {
      "text/plain": "0       902.0\n1       233.0\n2      1692.0\n3      1007.0\n4       977.0\n        ...  \n259     367.0\n260      41.0\n261     325.0\n262      16.0\n263      98.0\nName: Nb rating, Length: 264, dtype: float64"
     },
     "execution_count": 10,
     "metadata": {},
     "output_type": "execute_result"
    }
   ],
   "source": [
    "df['Nb rating'] = df['Nb rating'].str.replace(' ','').astype(float)\n",
    "df['Nb rating']"
   ],
   "metadata": {
    "collapsed": false,
    "pycharm": {
     "name": "#%%\n"
    }
   }
  },
  {
   "cell_type": "markdown",
   "source": [
    "C) Notations"
   ],
   "metadata": {
    "collapsed": false,
    "pycharm": {
     "name": "#%% md\n"
    }
   }
  },
  {
   "cell_type": "code",
   "execution_count": 11,
   "outputs": [
    {
     "data": {
      "text/plain": "0      9,10 / 10\n1      9,10 / 10\n2      9,10 / 10\n3      9,10 / 10\n4      9,30 / 10\n         ...    \n259    8,50 / 10\n260    8,50 / 10\n261    7,90 / 10\n262    6,40 / 10\n263    9,40 / 10\nName: Rating, Length: 264, dtype: object"
     },
     "execution_count": 11,
     "metadata": {},
     "output_type": "execute_result"
    }
   ],
   "source": [
    "df['Rating']"
   ],
   "metadata": {
    "collapsed": false,
    "pycharm": {
     "name": "#%%\n"
    }
   }
  },
  {
   "cell_type": "code",
   "execution_count": 12,
   "outputs": [],
   "source": [
    "rating_list = []\n",
    "for rating in df.Rating:\n",
    "    rating = rating.split('/', 1)\n",
    "    rating_list.append(rating[0])"
   ],
   "metadata": {
    "collapsed": false,
    "pycharm": {
     "name": "#%%\n"
    }
   }
  },
  {
   "cell_type": "code",
   "execution_count": 13,
   "outputs": [],
   "source": [
    "df['Rating'] = rating_list\n",
    "df['Rating'] = df['Rating'].str.replace(',','.').astype(float)"
   ],
   "metadata": {
    "collapsed": false,
    "pycharm": {
     "name": "#%%\n"
    }
   }
  },
  {
   "cell_type": "code",
   "execution_count": 14,
   "outputs": [
    {
     "data": {
      "text/plain": "0      9.1\n1      9.1\n2      9.1\n3      9.1\n4      9.3\n      ... \n259    8.5\n260    8.5\n261    7.9\n262    6.4\n263    9.4\nName: Rating, Length: 264, dtype: float64"
     },
     "execution_count": 14,
     "metadata": {},
     "output_type": "execute_result"
    }
   ],
   "source": [
    "df['Rating']"
   ],
   "metadata": {
    "collapsed": false,
    "pycharm": {
     "name": "#%%\n"
    }
   }
  },
  {
   "cell_type": "markdown",
   "source": [
    "D) Langages"
   ],
   "metadata": {
    "collapsed": false,
    "pycharm": {
     "name": "#%% md\n"
    }
   }
  },
  {
   "cell_type": "code",
   "execution_count": 15,
   "outputs": [
    {
     "data": {
      "text/plain": "0                  Anglais\n1                       -1\n2                       -1\n3                       -1\n4                       -1\n              ...         \n259                Anglais\n260                Anglais\n261    Anglais et espagnol\n262                     -1\n263    Anglais et espagnol\nName: Language, Length: 264, dtype: object"
     },
     "execution_count": 15,
     "metadata": {},
     "output_type": "execute_result"
    }
   ],
   "source": [
    "df['Language']"
   ],
   "metadata": {
    "collapsed": false,
    "pycharm": {
     "name": "#%%\n"
    }
   }
  },
  {
   "cell_type": "code",
   "execution_count": 16,
   "outputs": [
    {
     "data": {
      "text/plain": "0               Anglais\n1                    -1\n2                    -1\n3                    -1\n4                    -1\n             ...       \n259             Anglais\n260             Anglais\n261    Anglais,espagnol\n262                  -1\n263    Anglais,espagnol\nName: Language, Length: 264, dtype: object"
     },
     "execution_count": 16,
     "metadata": {},
     "output_type": "execute_result"
    }
   ],
   "source": [
    "df['Language'] = df['Language'].str.replace(' et ',',')\n",
    "df['Language']"
   ],
   "metadata": {
    "collapsed": false,
    "pycharm": {
     "name": "#%%\n"
    }
   }
  },
  {
   "cell_type": "code",
   "execution_count": 17,
   "outputs": [],
   "source": [
    "language_list = []\n",
    "for language in df.Language:\n",
    "    if language == '-1':\n",
    "        language_list.append([int(language)])\n",
    "    else:\n",
    "        language = language.split(',')\n",
    "        for i in range(len(language)):\n",
    "            if language[i] == 'Anglais' or language[i] == 'anglais':\n",
    "                language[i] = 1\n",
    "            elif language[i] == 'Français' or language[i] == 'français':\n",
    "                language[i] = 2\n",
    "            elif language[i] == 'espagnol' or language[i] == 'Espagnol':\n",
    "                language[i] = 3\n",
    "            else:\n",
    "                language[i] = -1\n",
    "        language_list.append(language)"
   ],
   "metadata": {
    "collapsed": false,
    "pycharm": {
     "name": "#%%\n"
    }
   }
  },
  {
   "cell_type": "code",
   "execution_count": 18,
   "outputs": [],
   "source": [
    "df['Language'] = language_list"
   ],
   "metadata": {
    "collapsed": false,
    "pycharm": {
     "name": "#%%\n"
    }
   }
  },
  {
   "cell_type": "code",
   "execution_count": 19,
   "outputs": [
    {
     "data": {
      "text/plain": "0         [1]\n1        [-1]\n2        [-1]\n3        [-1]\n4        [-1]\n        ...  \n259       [1]\n260       [1]\n261    [1, 3]\n262      [-1]\n263    [1, 3]\nName: Language, Length: 264, dtype: object"
     },
     "execution_count": 19,
     "metadata": {},
     "output_type": "execute_result"
    }
   ],
   "source": [
    "df['Language']"
   ],
   "metadata": {
    "collapsed": false,
    "pycharm": {
     "name": "#%%\n"
    }
   }
  },
  {
   "cell_type": "markdown",
   "source": [
    "E) Villes"
   ],
   "metadata": {
    "collapsed": false,
    "pycharm": {
     "name": "#%% md\n"
    }
   }
  },
  {
   "cell_type": "code",
   "execution_count": 20,
   "outputs": [],
   "source": [
    "df['City'] = df['City'].str.replace('-', ' ')\n",
    "cities_list = []\n",
    "for word in df.City:\n",
    "    word = word.title()\n",
    "    cities_list.append(word)"
   ],
   "metadata": {
    "collapsed": false,
    "pycharm": {
     "name": "#%%\n"
    }
   }
  },
  {
   "cell_type": "code",
   "execution_count": 21,
   "outputs": [
    {
     "data": {
      "text/plain": "0      New York\n1      New York\n2      New York\n3      New York\n4      New York\n         ...   \n259       Miami\n260       Miami\n261       Miami\n262       Miami\n263       Miami\nName: City, Length: 264, dtype: object"
     },
     "execution_count": 21,
     "metadata": {},
     "output_type": "execute_result"
    }
   ],
   "source": [
    "df['City'] = cities_list\n",
    "df['City']"
   ],
   "metadata": {
    "collapsed": false,
    "pycharm": {
     "name": "#%%\n"
    }
   }
  },
  {
   "cell_type": "markdown",
   "source": [
    "F) Traduction"
   ],
   "metadata": {
    "collapsed": false,
    "pycharm": {
     "name": "#%% md\n"
    }
   }
  },
  {
   "cell_type": "code",
   "execution_count": 28,
   "outputs": [],
   "source": [
    "from deep_translator import GoogleTranslator"
   ],
   "metadata": {
    "collapsed": false,
    "pycharm": {
     "name": "#%%\n"
    }
   }
  },
  {
   "cell_type": "code",
   "execution_count": 29,
   "outputs": [],
   "source": [
    "title_list = []\n",
    "annulation_list = []\n",
    "for title, annulation in zip(df['Title'], df['Annulation']):\n",
    "    title_list.append(GoogleTranslator(source='auto', target='en').translate(title))\n",
    "    annulation_list.append(GoogleTranslator(source='auto', target='en').translate(annulation))"
   ],
   "metadata": {
    "collapsed": false,
    "pycharm": {
     "name": "#%%\n"
    }
   }
  },
  {
   "cell_type": "code",
   "execution_count": 30,
   "outputs": [
    {
     "name": "stdout",
     "output_type": "stream",
     "text": [
      "['Helicopter flight over New York', 'Ticket to the 9/11 Memorial and Museum', 'Empire State ticket', 'Go City : New York Explorer Pass', 'Skip-the-line One World ticket', 'Ticket for the Summit One Vanderbilt', 'Outlet Shopping Tour', 'Billet pour The Edge', 'NYC Sightseeing Bus', 'Boat trip in lower Manhattan', 'New York Contrasts Tour', 'Bike rental in New York', 'Statue of Liberty and Ellis Island Tour', 'Harlem Guided Tour with Gospel Mass', 'Tour in the footsteps of Gossip Girl', 'New York CityPASS', 'Ticket to the New York Yankees', 'Ticket to MoMA', 'Circuit Sex and the City à New York', 'Boat trip around Manhattan', 'Free tour in New York', 'eSIM card with Internet in the United States', 'New York rooftop tour', 'Washington DC Day Trip from New York', 'Sunset Cruise', 'Carriage ride in Central Park', 'New York Night Helicopter Flight', 'Ticket for The Phantom of the Opera', 'The New York Pass®', 'Philadelphia and an Amish County Tour', 'Billet pour Chicago', '4-Day Niagara, Washington, and Philadelphia Tour', 'Ticket to Top of the Rock + 9/11 Museum', 'Quirky Brooklyn Bike Tour', 'Boston Day Trip', 'Private tour in New York', 'Brooklyn Street Art and Hipster Culture Tour', 'Visit the must-see places in New York', '2-Day Washington and Philadelphia Tour', 'Guided tour of New York', 'NYC Night Tour', 'New York dinner cruise', 'Niagara Falls Tour', 'Ticket to the Museum of the City of New York', 'Cinema circuit through the scenes of films and series', 'Visite de Lower East Side, Chinatown et Little Italy', 'Visit through the scenes of movies and series of Central Park', 'Union Square, High Line and Chelsea Tour', 'The Ride Experience', 'Niagara Falls 2 Day Tour', \"St. Patrick's Cathedral Ticket with Audio Guide\", 'Brooklyn Bridge, DUMBO and Brooklyn Heights Tour', 'Bike ride in Central Park', 'Niagara, Toronto, Philadelphia and Washington in 5 days', 'Little Italy and Chinatown Food Tour', 'Lower Manhattan Lunch Cruise', 'NYC Superhero Discovery Tour', 'Billet pour Wicked', 'Circuit in the footsteps of The Sopranos series', 'Billet pour Madame Tussauds', 'Moulin Rouge ticket', 'Sailboat rental with captain', 'Billet pour le Top of The Rock', 'Ticket to SPYSCAPE', 'Washington DC and Philadelphia Tour', 'Food tour through the East Village', 'Billet pour LEGOLAND New York', 'The Tour Experience', 'Private New York City Limo Tour', 'Southampton, Sag Harbor and Tanger Outlets Tour', 'Ticket to MJ, the Michael Jackson Musical', 'Guided tour in Central Park', 'High speed boat ride', 'Harlem Food Walking Tour', 'Private NYC Bike Tour', 'Lower Manhattan Discovery Tour', 'Guided tour of SoHo, Greenwich Village and Meatpacking District', 'Central Park Electric Scooter Tour', 'Open Top Bus Night Tour', 'NBA Ticket: New York Knicks', 'Ticket to The Lion King', 'Ticket to Radio City Music Hall', 'Gospel mass in Harlem', 'Brooklyn Christmas Spirit Tour', 'Billet pour Aladdin', 'Ticket to the New York Rangers', 'Ticket to Harry Potter and the Cursed Child', 'Excursion to Boston + Shopping in the outlets of New York', 'Boat trip in New York', 'Visit to Queens', 'Madison Square Garden Tour', 'Wedding with Elvis in Las Vegas', 'Battlefield Shooting Experience', 'Horseshoe Bend and Antelope Canyon X Tour', 'V - The Ultimate Variety Show', 'Pass Go City Las Vegas Explorer', 'Grand Canyon West Rim Tour', 'eSIM card with Internet in the United States', 'Offer: Grand Canyon + Las Vegas', 'Antelope Canyon Tour', 'Billet pour Madame Tussauds', '3 Day Arizona Desert Tour', 'Grand Canyon Full Tour by Private Plane', 'Death Valley Tour', 'Go City : Las Vegas All-Inclusive Pass', 'Las Vegas Night Tour', 'Tickets for Michael Jackson ONE, Cirque du Soleil', 'Aerobatics flight', 'Las Vegas Sightseeing Bus', 'Private plane ride over the Grand Canyon', 'Tickets for O, Cirque du Soleil', 'Grand Canyon Wedding + Helicopter', '4-Day Death Valley and Yosemite Tour to San Francisco', 'South Rim Private Jet Tour', 'Excursion to Disneyland California', 'Marriage in the Valley of Fire', 'Nathan Burton Magic Show Ticket', 'Self-Guided Boulder City Tour', 'Helicopter flight in Las Vegas', '3-Day Grand Canyon and Utah Tour', 'Pole dancing lessons in Las Vegas', 'Private North Premium Outlets Shopping Tour', 'Ticket to the Mob Museum', 'Excursion au canyon de Zion', 'Tickets for KÀ, Cirque du Soleil', 'Billet pour Vegas! The Show', 'Universal Studios Hollywood Tour', 'Bryce Canyon and Zion Canyon Tour', 'Grand Canyon Helicopter Tour', 'Tickets for LOVE, Cirque du Soleil', 'Aerial combat in aerobatic aircraft', 'Ticket to Zombie Burlesque', 'Universal Studios Hollywood + Disneyland California in 2 days', 'The Invictus Experience: Spying in Las Vegas', 'Hiking in the Valley of Fire', 'Helicopter shooting', 'Las Vegas Luxury Food Tour', 'Grand Canyon Sunset Tour', 'Ticket for Mystery, Cirque du Soleil', 'Red Rock Canyon Electric Bike Ride', '7 Day Tour from Las Vegas to San Francisco', 'Open Top Bus Night Tour', '2-Day Grand Canyon and Horseshoe Bend Tour', 'Billet pour Beatleshow', 'Flight in weightlessness', 'Zion National Park Tour', '7-Day Tour to Yellowstone, the Rockies, Bryce Canyon and Grand Teton', 'Boston Harbor Boat Ride', 'Billet pour le Boston Tea Party Ships & Museum', 'eSIM card with Internet in the United States', 'Guided tour of MIT', 'Go City Boston Explorer Pass', 'Boat trip at sunset', 'Guided tour of Harvard', 'Guided tour in Boston', 'Boston Tourist Trolley', 'Boston Amphibious Bus Tour', 'Boston Jet Boat Experience', 'Visit to the film sets of series and films', 'Boston CityPASS', 'Pub Crawl: pub crawl in Boston!', 'Ferry transfer to Salem', 'Go City Boston All Inclusive Pass', 'Whale Watching in Boston', 'Ferry pour Provincetown', 'Boston Ghosts Trolley', 'Boston Food Tour', 'Boston Donut Tour', 'Historic Boston Tour: Cambridge, Lexington and Concord', 'Muir Woods and Sausalito Tour', 'Bike rental in San Francisco', 'San Francisco Tourist Bus', 'Boat trip in San Francisco Bay', 'Go City : San Francisco All-Inclusive Pass', 'Cruise under the bridges of San Francisco', 'Comprehensive San Francisco Tour', 'Tour of historic neighborhoods in San Francisco', 'Free tour in San Francisco', 'eSIM card with Internet in the United States', 'San Francisco CityPASS', 'Go City : San Francisco Explorer Pass', 'Private tour in San Francisco with English-speaking guide', '7-Day San Francisco, Las Vegas, and Arizona Desert Tour', 'Open Top Bus Night Tour of San Francisco', \"Visit of San Francisco and d'Alcatraz\", 'Guided tour in alternative and artistic San Francisco', 'Catamaran ride at sunset', 'Free night tour in San Francisco', 'Seaplane flight over San Francisco Bay', 'Muir Woods and the vineyards of California', 'Billet pour Madame Tussauds', 'Iconic San Francisco Tour', 'Catamaran ride in San Francisco Bay', 'San Francisco Cruise with Lunch', 'San Francisco Food Tour', 'Segway ride in San Francisco', 'San Francisco GoCar Tour', 'Napa and Sonoma Wine Valleys Tour', 'San Francisco Sightseeing Bus + Alcatraz Ticket', '4-day tour from San Francisco to Las Vegas ending in Los Angeles', 'Excursion to Carmel and Monterey from San Francisco', 'Ticket to the California Academy of Sciences', 'San Francisco Viewpoints and Hills Tour', \"Visit to Fisherman's Wharf\", 'San Francisco Bay Bike Ride', 'Excursion au Parc National de Yosemite', 'eSIM card with Internet in the United States', 'Arlington Cemetery and Washington Memorials Tour', 'Guided tour of Washington DC', 'Washington DC Tourist Bus', 'Washington DC Segway Ride', 'Arlington Cemetery Tourist Train', 'Excursion shopping au Leesburg Premium Outlets', 'Convertible Bus Night Tour', 'Washington Lunch Cruise', 'Washington Dinner Cruise', 'Bike ride in Washington', 'Washington DC Whiskey Tasting Pass', 'Bike rental in Washington DC', 'Washington Night Bike Tour', 'Washington Tourist Trolley', 'Billet pour Madame Tussauds', 'eSIM card with Internet in the United States', 'Chicago Architecture Tour', 'Chicago Sightseeing Bus', 'Private Chicago Tour', 'Chicago CityPASS', 'Go City : Chicago Explorer Pass', 'Lincoln Park Ghost Tour', 'Open Top Bus Night Tour', 'Go Chicago All-Inclusive Pass', 'Chicago Donut Tour', 'Chicago Dinner Cruise', 'Millenium Park and Lake Michigan Bike Ride', 'Chicago Food Tour', 'Scenic Chicago Ghost Tour', 'Guided tour of the Chicago Theater', '360 Chicago Observation Deck Ticket', 'Chicago Scenic Tour', 'Universal Studios Hollywood Tickets', 'Guided tour through Hollywood Boulevard', 'Venice Beach Tour', 'Tour through historic downtown Los Angeles', 'eSIM card with Internet in the United States', 'Venice Beach Surf Lessons', '2-Day Las Vegas and Hoover Dam Tour', 'Los Angeles Sightseeing Bus', '-1', 'Go City : Los Angeles All-Inclusive Pass', 'Ticket to the USS Iowa Museum', 'Guided bike tour in Santa Monica and Venice Beach', 'Go City Los Angeles Explorer Pass', '5-Day Las Vegas and Arizona Desert Tour', 'Los Angeles Food Tour', 'Kayaking with sea lions in Marina del Rey', 'Hike to the Hollywood Sign', 'Paddle surfing with sea lions in Marina del Rey', 'Excursion à Malibu and from Volkswagen + Surf', 'Miami Tourist Bus', 'Boat trip through the Villas of the Stars', 'Motorboat ride in Miami', 'Everglades Tour', 'eSIM card with Internet in the United States', 'Offer: Contrasts of Miami + Everglades + Boat trip']\n"
     ]
    }
   ],
   "source": [
    "df['Title'] = title_list\n",
    "df['Annulation'] = annulation_list\n",
    "df['Title']\n",
    "print(title_list)"
   ],
   "metadata": {
    "collapsed": false,
    "pycharm": {
     "name": "#%%\n"
    }
   }
  },
  {
   "cell_type": "code",
   "execution_count": 31,
   "outputs": [],
   "source": [
    "df.to_csv(r'treated_us_activities.csv', index=False)"
   ],
   "metadata": {
    "collapsed": false,
    "pycharm": {
     "name": "#%%\n"
    }
   }
  }
 ],
 "metadata": {
  "kernelspec": {
   "display_name": "Python 3 (ipykernel)",
   "language": "python",
   "name": "python3"
  },
  "language_info": {
   "codemirror_mode": {
    "name": "ipython",
    "version": 3
   },
   "file_extension": ".py",
   "mimetype": "text/x-python",
   "name": "python",
   "nbconvert_exporter": "python",
   "pygments_lexer": "ipython3",
   "version": "3.7.11"
  }
 },
 "nbformat": 4,
 "nbformat_minor": 5
}